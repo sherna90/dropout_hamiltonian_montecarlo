{
 "cells": [
  {
   "cell_type": "code",
   "execution_count": 1,
   "metadata": {},
   "outputs": [],
   "source": [
    "import warnings\n",
    "warnings.filterwarnings(\"ignore\")\n",
    "\n",
    "import numpy as np\n",
    "from sklearn.metrics import classification_report, confusion_matrix\n",
    "import sys\n",
    "sys.path.append('./')\n",
    "import time\n",
    "import h5py\n",
    "\n",
    "use_gpu=False\n",
    "if use_gpu:\n",
    "    import hamiltonian.softmax_gpu as softmax\n",
    "else:\n",
    "    import hamiltonian.softmax as softmax\n",
    "\n",
    "eta=1e-2\n",
    "epochs=20\n",
    "batch_size=256\n",
    "alpha=1e-3\n",
    "data_path = 'data/'\n",
    "\n",
    "plants_train=h5py.File(data_path+'train_features_labels.h5','r')\n",
    "X_train=plants_train['train_features']\n",
    "y_train=plants_train['train_labels']\n",
    "plants_test=h5py.File(data_path+'validation_features_labels.h5','r')\n",
    "X_test=plants_test['validation_features']\n",
    "y_test=plants_test['validation_labels']\n",
    "\n",
    "classes=np.unique(y_train)\n",
    "\n",
    "dim_data=X_train.shape[1]\n",
    "num_classes=38\n",
    "import time\n",
    "\n",
    "start_time=time.time()\n",
    "start_p={'weights':np.random.randn(dim_data,num_classes),\n",
    "    'bias':np.random.randn(num_classes)}\n",
    "hyper_p={'alpha':alpha}"
   ]
  },
  {
   "cell_type": "code",
   "execution_count": 2,
   "metadata": {},
   "outputs": [
    {
     "name": "stdout",
     "output_type": "stream",
     "text": [
      "(19326, 38)\n",
      "(52174, 38)\n"
     ]
    }
   ],
   "source": [
    "print y_test.shape\n",
    "print y_train.shape"
   ]
  },
  {
   "cell_type": "code",
   "execution_count": 3,
   "metadata": {},
   "outputs": [
    {
     "name": "stderr",
     "output_type": "stream",
     "text": [
      "100%|██████████| 20/20 [05:18<00:00, 15.90s/it]"
     ]
    },
    {
     "name": "stdout",
     "output_type": "stream",
     "text": [
      "369.054003954\n"
     ]
    },
    {
     "name": "stderr",
     "output_type": "stream",
     "text": [
      "\n"
     ]
    }
   ],
   "source": [
    "dropout_rate=0.9\n",
    "par,loss=softmax.sgd_dropout(X_train,y_train,num_classes,start_p,hyper_p,eta=eta,epochs=epochs,batch_size=batch_size,scale=False,transform=False,verbose=0,p=dropout_rate)\n",
    "elapsed_time=time.time()-start_time \n",
    "print(elapsed_time)"
   ]
  },
  {
   "cell_type": "code",
   "execution_count": 4,
   "metadata": {},
   "outputs": [],
   "source": [
    "from tqdm import tqdm, trange\n",
    "\n",
    "acc=[]\n",
    "ensemble_size=100\n",
    "for i in  tqdm(range(int(ensemble_size)),total=int(ensemble_size)):\n",
    "    yhat=softmax.predict_stochastic(X_test,par,p=dropout_rate)\n",
    "    pred=yhat.argmax(axis=1)\n",
    "    gt=y_test[:].argmax(axis=1)\n",
    "    acc.append(np.float(np.sum(gt==pred))/np.float(y_test.shape[0]))\n",
    "\n"
   ]
  },
  {
   "cell_type": "code",
   "execution_count": 6,
   "metadata": {},
   "outputs": [
    {
     "name": "stdout",
     "output_type": "stream",
     "text": [
      "[16  3 24 ... 24 26 28]\n",
      "[16  3 24 ... 24 12 28]\n"
     ]
    }
   ],
   "source": [
    "print pred\n",
    "print gt\n",
    "print acc"
   ]
  },
  {
   "cell_type": "raw",
   "metadata": {},
   "source": [
    "import matplotlib.pyplot as plt\n",
    "import seaborn as sns\n",
    "sns.set(color_codes=True)\n",
    "sns.distplot(acc)\n",
    "plt.title(r'$\\mathrm{Exactitud\\ MC\\ Dropout:}\\ p=%0.1f$'%dropout_rate)\n",
    "plt.show()\n"
   ]
  },
  {
   "cell_type": "code",
   "execution_count": null,
   "metadata": {},
   "outputs": [],
   "source": [
    "plants_train.close()\n",
    "plants_test.close()"
   ]
  }
 ],
 "metadata": {
  "kernelspec": {
   "display_name": "Python 2",
   "language": "python",
   "name": "python2"
  },
  "language_info": {
   "codemirror_mode": {
    "name": "ipython",
    "version": 2
   },
   "file_extension": ".py",
   "mimetype": "text/x-python",
   "name": "python",
   "nbconvert_exporter": "python",
   "pygments_lexer": "ipython2",
   "version": "2.7.12"
  }
 },
 "nbformat": 4,
 "nbformat_minor": 2
}
