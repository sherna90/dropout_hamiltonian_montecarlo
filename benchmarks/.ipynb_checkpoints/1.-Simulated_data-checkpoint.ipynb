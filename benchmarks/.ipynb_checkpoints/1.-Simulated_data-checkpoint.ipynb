{
 "cells": [
  {
   "cell_type": "markdown",
   "metadata": {},
   "source": [
    "# Simulated Data\n",
    "\n",
    "We study the performance of Hamiltonian Monte Carlo and Stochastic Gradient Hamiltonian Monte Carlo for classification tasks. \n",
    "\n"
   ]
  },
  {
   "cell_type": "markdown",
   "metadata": {},
   "source": [
    "# Binary Classification\n",
    "\n",
    "First, a 2-dimensional binary classification problem is simulated. Data is generated from two well separated clusters, so a linear classification model is well suited. The generated data is split into train and test datasets. "
   ]
  },
  {
   "cell_type": "code",
   "execution_count": 1,
   "metadata": {},
   "outputs": [],
   "source": [
    "from sklearn.datasets import make_classification\n",
    "from sklearn.datasets import make_blobs\n",
    "from sklearn.metrics import classification_report, confusion_matrix\n",
    "from sklearn.model_selection import train_test_split\n",
    "\n",
    "D=2\n",
    "centers = [[-5, 0],  [5, -1]]\n",
    "X, y = make_blobs(n_samples=1000, centers=centers, cluster_std=1,random_state=40)\n",
    "X = (X - X.mean(axis=0)) / X.std(axis=0)\n",
    "X_train, X_test, y_train, y_test = train_test_split(X, y, random_state=0)"
   ]
  },
  {
   "cell_type": "markdown",
   "metadata": {},
   "source": [
    "A logistic regression model is fitted using the 2-dimensional features and $L_2$ regularization with $\\alpha=0.25$. The weights and bias are initialized with $\\mathbf w=0$ and $b=0$. Stochastic Gradient descent is also used to estimate the parameters using $10e4$ epochs, a learning rate $\\epsilon=1e-5$ and a batch size $b=50$."
   ]
  },
  {
   "cell_type": "code",
   "execution_count": 7,
   "metadata": {},
   "outputs": [
    {
     "name": "stderr",
     "output_type": "stream",
     "text": [
      "  3%|▎         | 256/10000 [00:00<00:07, 1228.81it/s]"
     ]
    },
    {
     "name": "stdout",
     "output_type": "stream",
     "text": [
      "loss: 0.7066\n"
     ]
    },
    {
     "name": "stderr",
     "output_type": "stream",
     "text": [
      " 11%|█▏        | 1137/10000 [00:00<00:07, 1237.26it/s]"
     ]
    },
    {
     "name": "stdout",
     "output_type": "stream",
     "text": [
      "loss: 0.1524\n"
     ]
    },
    {
     "name": "stderr",
     "output_type": "stream",
     "text": [
      " 22%|██▏       | 2151/10000 [00:01<00:06, 1291.52it/s]"
     ]
    },
    {
     "name": "stdout",
     "output_type": "stream",
     "text": [
      "loss: 0.1525\n"
     ]
    },
    {
     "name": "stderr",
     "output_type": "stream",
     "text": [
      " 32%|███▏      | 3210/10000 [00:02<00:05, 1319.35it/s]"
     ]
    },
    {
     "name": "stdout",
     "output_type": "stream",
     "text": [
      "loss: 0.1526\n"
     ]
    },
    {
     "name": "stderr",
     "output_type": "stream",
     "text": [
      " 43%|████▎     | 4258/10000 [00:03<00:04, 1275.50it/s]"
     ]
    },
    {
     "name": "stdout",
     "output_type": "stream",
     "text": [
      "loss: 0.1527\n"
     ]
    },
    {
     "name": "stderr",
     "output_type": "stream",
     "text": [
      " 52%|█████▏    | 5164/10000 [00:04<00:04, 1149.83it/s]"
     ]
    },
    {
     "name": "stdout",
     "output_type": "stream",
     "text": [
      "loss: 0.1527\n"
     ]
    },
    {
     "name": "stderr",
     "output_type": "stream",
     "text": [
      " 62%|██████▏   | 6231/10000 [00:05<00:03, 1126.61it/s]"
     ]
    },
    {
     "name": "stdout",
     "output_type": "stream",
     "text": [
      "loss: 0.1527\n"
     ]
    },
    {
     "name": "stderr",
     "output_type": "stream",
     "text": [
      " 72%|███████▏  | 7157/10000 [00:05<00:02, 1305.39it/s]"
     ]
    },
    {
     "name": "stdout",
     "output_type": "stream",
     "text": [
      "loss: 0.1527\n"
     ]
    },
    {
     "name": "stderr",
     "output_type": "stream",
     "text": [
      " 82%|████████▏ | 8201/10000 [00:06<00:01, 1164.62it/s]"
     ]
    },
    {
     "name": "stdout",
     "output_type": "stream",
     "text": [
      "loss: 0.1527\n"
     ]
    },
    {
     "name": "stderr",
     "output_type": "stream",
     "text": [
      " 93%|█████████▎| 9255/10000 [00:07<00:00, 1305.55it/s]"
     ]
    },
    {
     "name": "stdout",
     "output_type": "stream",
     "text": [
      "loss: 0.1527\n"
     ]
    },
    {
     "name": "stderr",
     "output_type": "stream",
     "text": [
      "100%|██████████| 10000/10000 [00:08<00:00, 1232.97it/s]"
     ]
    },
    {
     "name": "stdout",
     "output_type": "stream",
     "text": [
      "              precision    recall  f1-score   support\n",
      "\n",
      "           0       1.00      1.00      1.00       116\n",
      "           1       1.00      1.00      1.00       134\n",
      "\n",
      "    accuracy                           1.00       250\n",
      "   macro avg       1.00      1.00      1.00       250\n",
      "weighted avg       1.00      1.00      1.00       250\n",
      "\n",
      "[[116   0]\n",
      " [  0 134]]\n"
     ]
    },
    {
     "name": "stderr",
     "output_type": "stream",
     "text": [
      "\n"
     ]
    }
   ],
   "source": [
    "import sys\n",
    "sys.path.append(\"../\") \n",
    "import hamiltonian.models.cpu.logistic as base_model_cpu\n",
    "import hamiltonian.inference.cpu.sgd as inference_cpu\n",
    "import numpy as np\n",
    "\n",
    "D=X_train.shape[1]\n",
    "N=X_train.shape[0]\n",
    "\n",
    "epochs = 1e4\n",
    "eta=1e-5\n",
    "batch_size=50\n",
    "alpha=1/4.\n",
    "\n",
    "start_p={'weights':2*np.random.random((D,1)),'bias':2*np.random.random(1)}\n",
    "hyper_p={'alpha':alpha}\n",
    "\n",
    "model_cpu=base_model_cpu.logistic(hyper_p)\n",
    "optim_cpu=inference_cpu.sgd(model_cpu,start_p,step_size=eta)\n",
    "par_cpu,loss=optim_cpu.fit(epochs=epochs,batch_size=batch_size,gamma=0.9,\n",
    "                   X_train=X_train,y_train=y_train,verbose=True)\n",
    "y_pred=model_cpu.predict(par_cpu,X_test,batchsize=batch_size)\n",
    "\n",
    "print(classification_report(y_test, y_pred))\n",
    "print(confusion_matrix(y_test, y_pred))"
   ]
  },
  {
   "cell_type": "markdown",
   "metadata": {},
   "source": [
    "# Hamiltonian Monte Carlo\n",
    "\n",
    "Now we want to estimate posterior distributions for the logistic regression model. We run $100$ burn-in samples and then we sample $1e3$ iterations of the Hamiltonian Monte Carlo algorithm. "
   ]
  },
  {
   "cell_type": "code",
   "execution_count": 3,
   "metadata": {},
   "outputs": [
    {
     "ename": "ImportError",
     "evalue": "No module named cupy",
     "output_type": "error",
     "traceback": [
      "\u001b[0;31m---------------------------------------------------------------------------\u001b[0m",
      "\u001b[0;31mImportError\u001b[0m                               Traceback (most recent call last)",
      "\u001b[0;32m<ipython-input-3-1c6e72d8330b>\u001b[0m in \u001b[0;36m<module>\u001b[0;34m()\u001b[0m\n\u001b[0;32m----> 1\u001b[0;31m \u001b[0;32mimport\u001b[0m \u001b[0mhamiltonian\u001b[0m\u001b[0;34m.\u001b[0m\u001b[0mhmc\u001b[0m \u001b[0;32mas\u001b[0m \u001b[0mhmc\u001b[0m\u001b[0;34m\u001b[0m\u001b[0m\n\u001b[0m\u001b[1;32m      2\u001b[0m \u001b[0;32mimport\u001b[0m \u001b[0mhamiltonian\u001b[0m\u001b[0;34m.\u001b[0m\u001b[0mutils\u001b[0m \u001b[0;32mas\u001b[0m \u001b[0mutils\u001b[0m\u001b[0;34m\u001b[0m\u001b[0m\n\u001b[1;32m      3\u001b[0m \u001b[0;32mimport\u001b[0m \u001b[0mnumpy\u001b[0m \u001b[0;32mas\u001b[0m \u001b[0mnp\u001b[0m\u001b[0;34m\u001b[0m\u001b[0m\n\u001b[1;32m      4\u001b[0m \u001b[0;34m\u001b[0m\u001b[0m\n\u001b[1;32m      5\u001b[0m \u001b[0mmcmc\u001b[0m\u001b[0;34m=\u001b[0m\u001b[0mhmc\u001b[0m\u001b[0;34m.\u001b[0m\u001b[0mHMC\u001b[0m\u001b[0;34m(\u001b[0m\u001b[0mX_train\u001b[0m\u001b[0;34m,\u001b[0m\u001b[0my_train\u001b[0m\u001b[0;34m,\u001b[0m\u001b[0mlogistic\u001b[0m\u001b[0;34m.\u001b[0m\u001b[0mloss\u001b[0m\u001b[0;34m,\u001b[0m \u001b[0mlogistic\u001b[0m\u001b[0;34m.\u001b[0m\u001b[0mgrad\u001b[0m\u001b[0;34m,\u001b[0m \u001b[0mstart_p\u001b[0m\u001b[0;34m,\u001b[0m\u001b[0mhyper_p\u001b[0m\u001b[0;34m,\u001b[0m \u001b[0mpath_length\u001b[0m\u001b[0;34m=\u001b[0m\u001b[0;36m1\u001b[0m\u001b[0;34m,\u001b[0m\u001b[0mverbose\u001b[0m\u001b[0;34m=\u001b[0m\u001b[0;36m0\u001b[0m\u001b[0;34m)\u001b[0m\u001b[0;34m\u001b[0m\u001b[0m\n",
      "\u001b[0;32m/home/pc/Escritorio/Tesis en Casa/hamiltonian_montecarlo/hamiltonian/hmc.py\u001b[0m in \u001b[0;36m<module>\u001b[0;34m()\u001b[0m\n\u001b[1;32m     13\u001b[0m \u001b[0;32mimport\u001b[0m \u001b[0mtime\u001b[0m\u001b[0;34m\u001b[0m\u001b[0m\n\u001b[1;32m     14\u001b[0m \u001b[0;32mimport\u001b[0m \u001b[0mos\u001b[0m\u001b[0;34m\u001b[0m\u001b[0m\n\u001b[0;32m---> 15\u001b[0;31m \u001b[0;32mimport\u001b[0m \u001b[0mcupy\u001b[0m \u001b[0;32mas\u001b[0m \u001b[0mcp\u001b[0m\u001b[0;34m\u001b[0m\u001b[0m\n\u001b[0m\u001b[1;32m     16\u001b[0m \u001b[0;34m\u001b[0m\u001b[0m\n\u001b[1;32m     17\u001b[0m \u001b[0;32mdef\u001b[0m \u001b[0munwrap_self_mcmc\u001b[0m\u001b[0;34m(\u001b[0m\u001b[0marg\u001b[0m\u001b[0;34m,\u001b[0m \u001b[0;34m**\u001b[0m\u001b[0mkwarg\u001b[0m\u001b[0;34m)\u001b[0m\u001b[0;34m:\u001b[0m\u001b[0;34m\u001b[0m\u001b[0m\n",
      "\u001b[0;31mImportError\u001b[0m: No module named cupy"
     ]
    }
   ],
   "source": [
    "import hamiltonian.hmc as hmc\n",
    "import hamiltonian.utils as utils\n",
    "import numpy as np\n",
    "\n",
    "mcmc=hmc.HMC(X_train,y_train,logistic.loss, logistic.grad, start_p,hyper_p, path_length=1,verbose=0)\n",
    "posterior_sample,logp_samples=mcmc.multicore_sample(1e3,1e2,backend='simulated_data',ncores=2)"
   ]
  },
  {
   "cell_type": "code",
   "execution_count": null,
   "metadata": {},
   "outputs": [],
   "source": [
    "par_mean={var:np.mean(posterior_sample[var],axis=0).reshape(start_p[var].shape) for var in posterior_sample.keys()}\n",
    "par_var={var:np.var(posterior_sample[var],axis=0).reshape(start_p[var].shape) for var in posterior_sample.keys()}\n",
    "y_pred=logistic.predict(X_test,par_mean)\n",
    "\n",
    "print(classification_report(y_test, y_pred))\n",
    "print(confusion_matrix(y_test, y_pred))\n",
    "\n",
    "import matplotlib.pyplot as plt\n",
    "plt.figure()\n",
    "plt.scatter(X[:, 0], X[:, 1],marker='o', c=y,s=25, edgecolor='k')\n",
    "plt.axis('tight')\n",
    "xmin, xmax = plt.xlim()\n",
    "ymin, ymax = plt.ylim()\n",
    "\n",
    "\n",
    "\n",
    "def plot_uncertainty_hyperplane(par_mean,par_var, color):\n",
    "    bd = lambda x0,par :  (-(x0 * par['weights'][0]) - par['bias']) / par['weights'][1]\n",
    "    r=np.linspace(xmin,xmax)\n",
    "    par_m={var:par_mean[var]-np.sqrt(par_var[var]) for var in par_mean.keys()}\n",
    "    par_p={var:par_mean[var]+np.sqrt(par_var[var]) for var in par_mean.keys()}\n",
    "    plt.plot(r,bd(r,par_mean),ls=\"-\", color=color)\n",
    "    plt.plot(r,bd(r,par_m),ls=\"--\", color=color, alpha=0.5)\n",
    "    plt.plot(r,bd(r,par_p),ls=\"--\", color=color, alpha=0.5)\n",
    "    #plt.fill_between(r, bd(r,par_mean),  bd(r,par_p), color=color, alpha=0.5)\n",
    "    #plt.fill_between(r, bd(r,par_m),  bd(r,par_mean), color=color, alpha=0.5)\n",
    "    \n",
    "plot_uncertainty_hyperplane(par_mean, par_var,\"b\")\n",
    "plt.show()\n"
   ]
  },
  {
   "cell_type": "code",
   "execution_count": 12,
   "metadata": {},
   "outputs": [
    {
     "data": {
      "text/plain": [
       "array([[ 2.54384761, -0.59501634],\n",
       "       [ 2.54384761, -0.59501634],\n",
       "       [ 2.54384761, -0.59501634],\n",
       "       ...,\n",
       "       [ 2.54384761, -0.59501634],\n",
       "       [ 2.54384761, -0.59501634],\n",
       "       [ 2.54384761, -0.59501634]])"
      ]
     },
     "execution_count": 12,
     "metadata": {},
     "output_type": "execute_result"
    }
   ],
   "source": [
    "posterior_sample['weights']"
   ]
  },
  {
   "cell_type": "code",
   "execution_count": 5,
   "metadata": {},
   "outputs": [
    {
     "name": "stdout",
     "output_type": "stream",
     "text": [
      "step_size 0.2500, acceptance prob: 1.00, direction : -1.00\n",
      "step_size 0.2500, acceptance prob: 1.00, direction : -1.00\n",
      "step_size 0.2500, acceptance prob: 1.00, direction : -1.00\n",
      "step_size 0.2500, acceptance prob: 1.00, direction : -1.00\n",
      "step_size 0.2500, acceptance prob: 1.00, direction : -1.00\n"
     ]
    },
    {
     "name": "stderr",
     "output_type": "stream",
     "text": [
      "  0%|          | 0/100 [00:00<?, ?it/s]"
     ]
    },
    {
     "name": "stdout",
     "output_type": "stream",
     "text": [
      "step_size 0.2500, acceptance prob: 1.00, direction : -1.00\n",
      "step_size 0.2500, acceptance prob: 1.00, direction : -1.00\n"
     ]
    },
    {
     "name": "stderr",
     "output_type": "stream",
     "text": [
      "  0%|          | 0/100 [00:00<?, ?it/s]"
     ]
    },
    {
     "name": "stdout",
     "output_type": "stream",
     "text": [
      "step_size 0.2500, acceptance prob: 1.00, direction : 1.00\n"
     ]
    },
    {
     "name": "stderr",
     "output_type": "stream",
     "text": [
      "100%|██████████| 100/100 [00:00<00:00, 166.26it/s]\n",
      "100%|██████████| 100/100 [00:00<00:00, 164.68it/s]\n",
      "100%|██████████| 100/100 [00:00<00:00, 155.77it/s]\n",
      "100%|██████████| 100/100 [00:00<00:00, 167.84it/s]\n",
      "100%|██████████| 100/100 [00:00<00:00, 151.51it/s]\n",
      "100%|██████████| 100/100 [00:00<00:00, 153.95it/s]\n",
      "100%|██████████| 100/100 [00:00<00:00, 132.74it/s]\n",
      "\n",
      "100%|██████████| 125/125 [00:00<00:00, 145.71it/s]\n",
      "100%|██████████| 125/125 [00:00<00:00, 153.33it/s]\n",
      "100%|██████████| 125/125 [00:00<00:00, 144.89it/s]\n",
      "100%|██████████| 125/125 [00:00<00:00, 150.34it/s]\n",
      "100%|██████████| 125/125 [00:00<00:00, 132.55it/s]\n",
      "100%|██████████| 125/125 [00:00<00:00, 140.73it/s]\n",
      "100%|██████████| 125/125 [00:00<00:00, 146.49it/s]\n",
      "100%|██████████| 125/125 [00:00<00:00, 150.35it/s]\n"
     ]
    },
    {
     "name": "stdout",
     "output_type": "stream",
     "text": [
      "             precision    recall  f1-score   support\n",
      "\n",
      "          0       1.00      1.00      1.00       116\n",
      "          1       1.00      1.00      1.00       134\n",
      "\n",
      "avg / total       1.00      1.00      1.00       250\n",
      "\n",
      "[[116   0]\n",
      " [  0 134]]\n"
     ]
    },
    {
     "data": {
      "image/png": "[encoded data removed]",
      "text/plain": [
       "<matplotlib.figure.Figure at 0x7fa960139d10>"
      ]
     },
     "metadata": {},
     "output_type": "display_data"
    }
   ],
   "source": [
    "import hamiltonian.sghmc as sghmc_sampler\n",
    "\n",
    "mcmc2=sghmc_sampler.SGHMC(X_train,y_train,logistic.loss, logistic.grad, start_p,hyper_p, path_length=1,verbose=0)\n",
    "posterior_sample_sghmc,logp_samples_sghmc=mcmc2.multicore_sample(1e3,1e2,batch_size=50)\n",
    "\n",
    "par_mean_sghmc={var:np.mean(posterior_sample_sghmc[var],axis=0).reshape(start_p[var].shape) for var in posterior_sample_sghmc.keys()}\n",
    "par_var_sghmc={var:np.var(posterior_sample_sghmc[var],axis=0).reshape(start_p[var].shape) for var in posterior_sample_sghmc.keys()}\n",
    "\n",
    "y_pred=logistic.predict(X_test,par_mean_sghmc)\n",
    "\n",
    "print(classification_report(y_test, y_pred))\n",
    "print(confusion_matrix(y_test, y_pred))\n",
    "\n",
    "plt.figure()\n",
    "plt.scatter(X[:, 0], X[:, 1],marker='o', c=y,s=25, edgecolor='k')\n",
    "plt.axis('tight')\n",
    "xmin, xmax = plt.xlim()\n",
    "ymin, ymax = plt.ylim()\n",
    "\n",
    "plot_uncertainty_hyperplane(par_mean_sghmc, par_var_sghmc,\"r\")\n",
    "plt.show()"
   ]
  },
  {
   "cell_type": "code",
   "execution_count": null,
   "metadata": {},
   "outputs": [],
   "source": []
  }
 ],
 "metadata": {
  "kernelspec": {
   "display_name": "Python 3",
   "language": "python",
   "name": "python3"
  },
  "language_info": {
   "codemirror_mode": {
    "name": "ipython",
    "version": 3
   },
   "file_extension": ".py",
   "mimetype": "text/x-python",
   "name": "python",
   "nbconvert_exporter": "python",
   "pygments_lexer": "ipython3",
   "version": "3.6.9"
  }
 },
 "nbformat": 4,
 "nbformat_minor": 2
}
