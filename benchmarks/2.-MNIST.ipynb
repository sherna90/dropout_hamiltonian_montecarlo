{
 "cells": [
  {
   "cell_type": "markdown",
   "metadata": {},
   "source": [
    "# MNIST dataset\n"
   ]
  },
  {
   "cell_type": "markdown",
   "metadata": {},
   "source": [
    "# Stochastic Gradient Descent"
   ]
  },
  {
   "cell_type": "code",
   "execution_count": 1,
   "metadata": {},
   "outputs": [],
   "source": [
    "import warnings\n",
    "warnings.filterwarnings(\"ignore\")\n",
    "\n",
    "import h5py\n",
    "import numpy as np\n",
    "import sys\n",
    "sys.path.append(\"../\")\n",
    "import hamiltonian.utils as utils\n",
    "\n",
    "data_path = '../data/'\n",
    "\n",
    "mnist_train=h5py.File(data_path+'mnist_train.h5','r')\n",
    "X_train=mnist_train['X_train'][:].reshape((-1,28*28))\n",
    "X_train=X_train/255.\n",
    "y_train=mnist_train['y_train']\n",
    "\n",
    "mnist_test=h5py.File(data_path+'mnist_test.h5','r')\n",
    "X_test=mnist_test['X_test'][:].reshape((-1,28*28))\n",
    "X_test=X_test/255.\n",
    "y_test=mnist_test['y_test']\n",
    "\n",
    "classes=np.unique(y_train)\n",
    "D=X_train.shape[1]\n",
    "K=len(classes)\n",
    "y_train=utils.one_hot(y_train[:],K)\n",
    "y_test=utils.one_hot(y_test[:],K)"
   ]
  },
  {
   "cell_type": "code",
   "execution_count": 2,
   "metadata": {},
   "outputs": [
    {
     "name": "stdout",
     "output_type": "stream",
     "text": [
      "elapsed time : 24.3308\n",
      "             precision    recall  f1-score   support\n",
      "\n",
      "          0       0.57      0.98      0.72       980\n",
      "          1       0.92      0.90      0.91      1135\n",
      "          2       0.86      0.74      0.79      1032\n",
      "          3       0.63      0.87      0.73      1010\n",
      "          4       0.95      0.63      0.75       982\n",
      "          5       1.00      0.00      0.01       892\n",
      "          6       0.82      0.84      0.83       958\n",
      "          7       0.88      0.83      0.85      1028\n",
      "          8       0.58      0.78      0.66       974\n",
      "          9       0.75      0.76      0.76      1009\n",
      "\n",
      "avg / total       0.80      0.74      0.71     10000\n",
      "\n",
      "[[ 960    0    2    5    0    0    5    1    7    0]\n",
      " [   0 1020    6   17    0    0    6    1   85    0]\n",
      " [  83   14  761   64    4    0   35   13   56    2]\n",
      " [  42    1   21  874    0    0    9   10   48    5]\n",
      " [  37   10    8    8  615    0   58    2   59  185]\n",
      " [ 312   13   19  277    4    3   36   19  187   22]\n",
      " [ 108    5   14    4    2    0  805    0   20    0]\n",
      " [  35   35   32    4    4    0    2  853   34   29]\n",
      " [  51    5    9  113    1    0   18   11  757    9]\n",
      " [  60    8   14   24   20    0    3   58   56  766]]\n"
     ]
    },
    {
     "data": {
      "text/plain": [
       "<matplotlib.figure.Figure at 0x7fdea8b37110>"
      ]
     },
     "metadata": {},
     "output_type": "display_data"
    }
   ],
   "source": [
    "import time\n",
    "from sklearn.metrics import classification_report, confusion_matrix\n",
    "import matplotlib.pyplot as plt\n",
    "\n",
    "\n",
    "import hamiltonian.softmax as softmax\n",
    "\n",
    "eta=1e-5\n",
    "epochs=50\n",
    "batch_size=1000\n",
    "alpha=1./100.\n",
    "\n",
    "start_time=time.time()\n",
    "start_p={'weights':np.zeros((D,K)),\n",
    "        'bias':np.zeros((K))}\n",
    "hyper_p={'alpha':alpha}\n",
    "\n",
    "par,loss=softmax.sgd(X_train,y_train,K,start_p,hyper_p,eta=eta,epochs=epochs,batch_size=batch_size,verbose=0)\n",
    "elapsed_time=time.time()-start_time \n",
    "\n",
    "print('elapsed time : {0:.4f}'.format(elapsed_time))\n",
    "y_pred=softmax.predict(X_test,par)\n",
    "\n",
    "print(classification_report(y_test[:].argmax(axis=1), y_pred))\n",
    "print(confusion_matrix(y_test[:].argmax(axis=1), y_pred))\n",
    "\n",
    "plt.plot(loss)\n",
    "plt.show()\n"
   ]
  },
  {
   "cell_type": "markdown",
   "metadata": {},
   "source": [
    "# Hamiltonian Monte Carlo"
   ]
  },
  {
   "cell_type": "code",
   "execution_count": null,
   "metadata": {
    "scrolled": true
   },
   "outputs": [
    {
     "name": "stderr",
     "output_type": "stream",
     "text": [
      " 34%|███▍      | 34/100 [01:06<02:09,  1.96s/it]"
     ]
    }
   ],
   "source": [
    "import hamiltonian.sgld as sampler\n",
    "\n",
    "start_time=time.time()\n",
    "mcmc=sampler.SGLD(X_train,y_train,softmax.loss, softmax.grad, start_p,hyper_p, path_length=1,verbose=0)\n",
    "posterior_sample,logp_samples=mcmc.multicore_sample(1e3,1e2,backend=None,ncores=4)\n",
    "elapsed_time=time.time()-start_time \n",
    "print('elapsed time : {0:.4f}'.format(elapsed_time))\n",
    "\n",
    "post_par={var:np.mean(posterior_sample[var],axis=0).reshape(start_p[var].shape) for var in posterior_sample.keys()}\n",
    "y_pred=softmax.predict(X_test,post_par)\n",
    "print(classification_report(y_test.argmax(axis=1), y_pred))\n",
    "print(confusion_matrix(y_test.argmax(axis=1), y_pred))"
   ]
  },
  {
   "cell_type": "code",
   "execution_count": 7,
   "metadata": {},
   "outputs": [
    {
     "data": {
      "image/png": "[encoded data removed]",
      "text/plain": [
       "<matplotlib.figure.Figure at 0x7f9986c37e10>"
      ]
     },
     "metadata": {},
     "output_type": "display_data"
    }
   ],
   "source": [
    "plt.hist(logp_samples)\n",
    "plt.show()"
   ]
  }
 ],
 "metadata": {
  "kernelspec": {
   "display_name": "Python 2",
   "language": "python",
   "name": "python2"
  },
  "language_info": {
   "codemirror_mode": {
    "name": "ipython",
    "version": 2
   },
   "file_extension": ".py",
   "mimetype": "text/x-python",
   "name": "python",
   "nbconvert_exporter": "python",
   "pygments_lexer": "ipython2",
   "version": "2.7.12"
  }
 },
 "nbformat": 4,
 "nbformat_minor": 2
}
